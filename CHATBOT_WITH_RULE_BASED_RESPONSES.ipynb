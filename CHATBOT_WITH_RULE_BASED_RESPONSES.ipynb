{
  "nbformat": 4,
  "nbformat_minor": 0,
  "metadata": {
    "colab": {
      "provenance": [],
      "authorship_tag": "ABX9TyNWfR7VlYEDgQZgMwBOQuRB",
      "include_colab_link": true
    },
    "kernelspec": {
      "name": "python3",
      "display_name": "Python 3"
    },
    "language_info": {
      "name": "python"
    }
  },
  "cells": [
    {
      "cell_type": "markdown",
      "metadata": {
        "id": "view-in-github",
        "colab_type": "text"
      },
      "source": [
        "<a href=\"https://colab.research.google.com/github/DAbhishek02/artificial-intelligence-project/blob/main/CHATBOT_WITH_RULE_BASED_RESPONSES.ipynb\" target=\"_parent\"><img src=\"https://colab.research.google.com/assets/colab-badge.svg\" alt=\"Open In Colab\"/></a>"
      ]
    },
    {
      "cell_type": "code",
      "execution_count": null,
      "metadata": {
        "colab": {
          "base_uri": "https://localhost:8080/"
        },
        "id": "sflLPq9kR1cx",
        "outputId": "a8b3404c-19df-4258-a203-2c83ad805935"
      },
      "outputs": [
        {
          "output_type": "stream",
          "name": "stdout",
          "text": [
            "Chatbot: The team leader is the person responsible for guiding and managing the team.\n"
          ]
        }
      ],
      "source": [
        "import sqlite3\n",
        "import re\n",
        "\n",
        "# Create Database for Chatbot\n",
        "conn = sqlite3.connect('chatbot.db')\n",
        "c = conn.cursor()\n",
        "\n",
        "_ = c.execute('''\n",
        "CREATE TABLE IF NOT EXISTS responses (\n",
        "    id INTEGER PRIMARY KEY AUTOINCREMENT,\n",
        "    question TEXT NOT NULL,\n",
        "    response TEXT NOT NULL\n",
        ")\n",
        "''')\n",
        "\n",
        "responses_en = [\n",
        "    ('hello|hi|hey', 'Hello! How can I assist you today?'),\n",
        "    ('how are you', 'I\\'m just a bot, but I\\'m doing great! How about you?'),\n",
        "    ('what is your name', 'I am a simple rule-based chatbot created to assist you.'),\n",
        "    ('thank you|thanks', 'You\\'re welcome! If you have any other questions, feel free to ask.'),\n",
        "    ('bye|goodbye', 'Goodbye! Have a great day!'),\n",
        "    ('what can you do', 'I can assist you with simple queries and provide basic information.'),\n",
        "    ('what is the weather', 'I can help with general weather information.'),\n",
        "    ('what time is it', 'I can provide you with the current time if you enable location access.'),\n",
        "    ('how can I contact support', 'You can contact support via email at support@example.com.'),\n",
        "    ('who is the team leader', 'The team leader is the person responsible for guiding and managing the team.'),\n",
        "    ('what is your favorite color', 'I don\\'t have preferences, but I can help you with information about colors.'),\n",
        "    ('how can I reset my password', 'You can reset your password by following the instructions in the \"Forgot Password\" section of the login page.'),\n",
        "    ('where is the nearest store', 'I can help you find the nearest store if you enable location services.'),\n",
        "    ('what are your operating hours', 'Our operating hours are from 9 AM to 5 PM, Monday to Friday.'),\n",
        "    ('how can I subscribe to the newsletter', 'You can subscribe to our newsletter by entering your email on the subscription page.'),\n",
        "    ('how do I update my profile', 'You can update your profile by logging into your account and going to the profile settings section.'),\n",
        "    ('what languages do you support', 'I support both English and Arabic.'),\n",
        "    ('how do I provide feedback', 'You can provide feedback by filling out the feedback form on our website.')\n",
        "]\n",
        "\n",
        "c.executemany('INSERT INTO responses (question, response) VALUES (?, ?)', responses_en)\n",
        "conn.commit()\n",
        "conn.close()\n",
        "\n",
        "#### use Database for Chatbot\n",
        "def get_response_from_db_en(user_input):\n",
        "    conn = sqlite3.connect('chatbot.db')\n",
        "    c = conn.cursor()\n",
        "    c.execute('SELECT question, response FROM responses')\n",
        "    rows = c.fetchall()\n",
        "    for row in rows:\n",
        "        question, response = row\n",
        "        if re.search(r'\\b(' + question + r')\\b', user_input, re.IGNORECASE):\n",
        "            conn.close()\n",
        "            return response\n",
        "    conn.close()\n",
        "    return \"I'm sorry, I didn't understand that. Can you please rephrase?\"\n",
        "\n",
        "'''\n",
        "while True:\n",
        "    user_input = input(\"You: \").lower()\n",
        "    if user_input in [\"bye\", \"goodbye\"]:\n",
        "        print(\"Chatbot: Goodbye! Have a great day!\")\n",
        "        break\n",
        "    response = get_response_from_db_en(user_input)\n",
        "    print(\"Chatbot:\", response)\n",
        "'''\n",
        "\n",
        "response = get_response_from_db_en('who is the team leader')\n",
        "print(\"Chatbot:\", response)"
      ]
    },
    {
      "cell_type": "code",
      "source": [
        "import sqlite3\n",
        "import re\n",
        "\n",
        "# Define the initial responses\n",
        "responses = [\n",
        "    ('hey|hlo|hello', 'Hello! How can I assist you today? am AB BOT how can i help you'),\n",
        "    ('hello|hi|hey', 'Hello! How can I assist you today?'),\n",
        "    ('how are you', 'I\\'m just a bot, but I\\'m doing great! How about you?'),\n",
        "    ('what is your name', 'I am a simple rule-based chatbot created to assist you.'),\n",
        "    ('thank you|thanks', 'You\\'re welcome! If you have any other questions, feel free to ask.'),\n",
        "    ('bye|goodbye', 'Goodbye! Have a great day!'),\n",
        "    ('what can you do', 'I can assist you with simple queries and provide basic information.'),\n",
        "    ('what is the weather', 'I can help with general weather information.'),\n",
        "    ('what time is it', 'What time zone are you in? I can try to provide the current time for that zone.'),\n",
        "    ('how can I contact support', 'You can contact support via email at support@example.com.'),\n",
        "    ('who is the team leader', 'The team leader is the person responsible for guiding and managing the team.'),\n",
        "    ('what is your favorite color', 'I don\\'t have preferences, but I can help you with information about colors.'),\n",
        "    ('how can I reset my password', 'You can reset your password by following the instructions in the \"Forgot Password\" section of the login page.'),\n",
        "    ('where is the nearest store', 'I can help you find the nearest store if you enable location services.'),\n",
        "    ('what are your operating hours', 'Our operating hours are from 9 AM to 5 PM, Monday to Friday.'),\n",
        "    ('how can I subscribe to the newsletter', 'You can subscribe to our newsletter by entering your email on the subscription page.'),\n",
        "    ('how do I update my profile', 'You can update your profile by logging into your account and going to the profile settings section.'),\n",
        "    ('what languages do you support', 'I support both English and Arabic.'),\n",
        "    ('how do I provide feedback', 'You can provide feedback by filling out the feedback form on our website.')\n",
        "]\n",
        "\n",
        "# Function to create the database and insert initial responses\n",
        "def create_database():\n",
        "    conn = sqlite3.connect('chatbot.db')\n",
        "    c = conn.cursor()\n",
        "    c.execute('CREATE TABLE IF NOT EXISTS responses (question TEXT, response TEXT)')\n",
        "    c.executemany('INSERT INTO responses (question, response) VALUES (?, ?)', responses)\n",
        "    conn.commit()\n",
        "    conn.close()\n",
        "    print(\"Chatbot database created and initial responses added.\")\n",
        "\n",
        "# Function to get a response from the database based on user input\n",
        "def get_response_from_db(user_input):\n",
        "    conn = sqlite3.connect('chatbot.db')\n",
        "    c = conn.cursor()\n",
        "    c.execute('SELECT question, response FROM responses')\n",
        "    rows = c.fetchall()\n",
        "    for row in rows:\n",
        "        question, response = row\n",
        "        # Use regex for more flexible pattern matching\n",
        "        if re.search(r'\\b(' + question + r')\\b', user_input, re.IGNORECASE):\n",
        "            conn.close()\n",
        "            return response\n",
        "    conn.close()\n",
        "    return \"I'm sorry, I didn't understand that. Can you please rephrase?\"\n",
        "\n",
        "# Main chatbot loop\n",
        "def chatbot_interaction():\n",
        "    create_database() # Create the database if it doesn't exist\n",
        "    print(\"Chatbot: Hi there! Ask me something or say 'bye' to exit, anything else i can do for you!\")\n",
        "    while True:\n",
        "        user_input = input(\"You: \").lower()\n",
        "        if user_input in [\"bye\", \"goodbye\"]:\n",
        "            print(\"Chatbot: Goodbye! Have a great day\")\n",
        "            break\n",
        "        response = get_response_from_db(user_input)\n",
        "        print(\"Chatbot:\", response)\n",
        "\n",
        "if __name__ == \"__main__\":\n",
        "    chatbot_interaction()"
      ],
      "metadata": {
        "colab": {
          "base_uri": "https://localhost:8080/"
        },
        "id": "5-XvQK3RR3sH",
        "outputId": "e885db6c-0dd4-438f-b824-9a469500f9e8"
      },
      "execution_count": null,
      "outputs": [
        {
          "output_type": "stream",
          "name": "stdout",
          "text": [
            "Chatbot database created and initial responses added.\n",
            "Chatbot: Hi there! Ask me something or say 'bye' to exit, anything else i can do for you!\n",
            "You: hlo\n",
            "Chatbot: Hello! How can I assist you today? am AB BOT how can i help you\n",
            "You: bye\n",
            "Chatbot: Goodbye! Have a great day\n"
          ]
        }
      ]
    }
  ]
}